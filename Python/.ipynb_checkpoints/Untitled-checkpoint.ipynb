{
 "cells": [
  {
   "cell_type": "code",
   "execution_count": 1,
   "metadata": {},
   "outputs": [
    {
     "name": "stdout",
     "output_type": "stream",
     "text": [
      "18\n"
     ]
    }
   ],
   "source": [
    "a = 8\n",
    "b = 10\n",
    "print(a+b)"
   ]
  },
  {
   "cell_type": "code",
   "execution_count": 3,
   "metadata": {},
   "outputs": [
    {
     "name": "stdout",
     "output_type": "stream",
     "text": [
      "Cuál es la dirección del motor 1?1\n",
      "Cuál es la dirección del motor 2?-1\n"
     ]
    }
   ],
   "source": [
    "dir1 = int(input(\"Cuál es la dirección del motor 1?\"))\n",
    "dir2 = int(input(\"Cuál es la dirección del motor 2?\"))\n",
    "\n",
    "if (dir1 == 1):\n",
    "    print(\"Motor 1 adelante\")\n",
    "elif (dir1 == -1):\n",
    "    print(\"Motor 1 atrás\")\n",
    "    \n",
    "if (dir2 == 1):\n",
    "    print(\"Motor 2 adelante\")\n",
    "elif (dir2 == -1):\n",
    "    print(\"Motor 2 atrás\")"
   ]
  },
  {
   "cell_type": "code",
   "execution_count": null,
   "metadata": {},
   "outputs": [],
   "source": []
  }
 ],
 "metadata": {
  "kernelspec": {
   "display_name": "Python 3",
   "language": "python",
   "name": "python3"
  },
  "language_info": {
   "codemirror_mode": {
    "name": "ipython",
    "version": 3
   },
   "file_extension": ".py",
   "mimetype": "text/x-python",
   "name": "python",
   "nbconvert_exporter": "python",
   "pygments_lexer": "ipython3",
   "version": "3.5.2"
  }
 },
 "nbformat": 4,
 "nbformat_minor": 4
}
