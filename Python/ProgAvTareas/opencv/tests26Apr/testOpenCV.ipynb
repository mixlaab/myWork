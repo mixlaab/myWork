{
 "cells": [
  {
   "cell_type": "code",
   "execution_count": 2,
   "metadata": {},
   "outputs": [
    {
     "name": "stdout",
     "output_type": "stream",
     "text": [
      "<type 'numpy.ndarray'>\n"
     ]
    }
   ],
   "source": [
    "import cv2\n",
    "import numpy as np\n",
    "img = cv2.imread('colorBalls.jpg')\n",
    "print(type(img))"
   ]
  },
  {
   "cell_type": "code",
   "execution_count": null,
   "metadata": {},
   "outputs": [],
   "source": [
    "import cv2\n",
    "import numpy as np\n",
    "\n",
    "img = np.zeros([200,200,3])\n",
    "\n",
    "img[:,:,0] = np.ones([200,200])*255\n",
    "img[:,:,1] = np.ones([200,200])*0\n",
    "img[:,:,2] = np.ones([200,200])*255\n",
    "\n",
    "np.savetxt('blue.csv', img[:,:,0], delimiter=',')\n",
    "np.savetxt('green.csv', img[:,:,1], delimiter=',')\n",
    "np.savetxt('red.csv', img[:,:,2], delimiter=',')\n",
    "\n",
    "cv2.imwrite('color_img.jpg', img)\n",
    "#cv2.imshow(\"image\", img)\n",
    "cv2.waitKey()"
   ]
  },
  {
   "cell_type": "code",
   "execution_count": null,
   "metadata": {},
   "outputs": [],
   "source": []
  }
 ],
 "metadata": {
  "kernelspec": {
   "display_name": "Python 2",
   "language": "python",
   "name": "python2"
  },
  "language_info": {
   "codemirror_mode": {
    "name": "ipython",
    "version": 2
   },
   "file_extension": ".py",
   "mimetype": "text/x-python",
   "name": "python",
   "nbconvert_exporter": "python",
   "pygments_lexer": "ipython2",
   "version": "2.7.12"
  }
 },
 "nbformat": 4,
 "nbformat_minor": 4
}
