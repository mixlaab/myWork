{
 "cells": [
  {
   "cell_type": "code",
   "execution_count": 24,
   "metadata": {},
   "outputs": [
    {
     "name": "stdout",
     "output_type": "stream",
     "text": [
      "<type 'numpy.ndarray'>\n"
     ]
    }
   ],
   "source": [
    "import cv2\n",
    "import numpy as np\n",
    "img = cv2.imread('colorBalls.jpg')\n",
    "print(type(img))"
   ]
  },
  {
   "cell_type": "code",
   "execution_count": 41,
   "metadata": {},
   "outputs": [
    {
     "name": "stdout",
     "output_type": "stream",
     "text": [
      "ok\n"
     ]
    }
   ],
   "source": [
    "import cv2\n",
    "import numpy as np\n",
    "\n",
    "img = np.zeros([200,200,3])\n",
    "\n",
    "img[:,:,0] = np.ones([200,200])*0\n",
    "img[:,:,1] = np.ones([200,200])*128\n",
    "img[:,:,2] = np.ones([200,200])*0\n",
    "\n",
    "preimg = np.uint8(img)\n",
    "bgrimg = cv2.cvtColor(preimg, cv2.COLOR_HSV2BGR)\n",
    "np.savetxt('blue.csv', bgrimg[:,:,0], delimiter=',')\n",
    "np.savetxt('green.csv',bgrimg[:,:,1], delimiter=',')\n",
    "np.savetxt('red.csv', bgrimg[:,:,2], delimiter=',')\n",
    "\n",
    "cv2.imwrite('HSV_img.jpg', img)\n",
    "cv2.imwrite('BGR_img.jpg', bgrimg)\n",
    "#cv2.imshow(\"image\", img)\n",
    "#cv2.waitKey()\n",
    "print(\"ok\")"
   ]
  },
  {
   "cell_type": "code",
   "execution_count": null,
   "metadata": {},
   "outputs": [],
   "source": []
  }
 ],
 "metadata": {
  "kernelspec": {
   "display_name": "Python 2",
   "language": "python",
   "name": "python2"
  }
 },
 "nbformat": 4,
 "nbformat_minor": 4
}
