{
 "cells": [
  {
   "cell_type": "code",
   "execution_count": null,
   "metadata": {},
   "outputs": [],
   "source": []
  },
  {
   "cell_type": "code",
   "execution_count": 14,
   "metadata": {
    "scrolled": true
   },
   "outputs": [
    {
     "name": "stdout",
     "output_type": "stream",
     "text": [
      "¿Cuál es la velocidad real de la línea?\n",
      "44\n",
      "Diferencia de velocidad:  0.0\n",
      "Capacidad: 2816\n",
      "Capture demanda del cliente:\n",
      "5749\n",
      "Capture producción real:\n",
      "5245\n",
      "-504.0\n"
     ]
    }
   ],
   "source": [
    "#Plataforma Tacoma 1\n",
    "velProg = 44\n",
    "velReal = float(input(\"¿Cuál es la velocidad real de la línea?\\n\"))\n",
    "difVel = velReal-velProg\n",
    "horas = 22\n",
    "dias = 3\n",
    "print ('Diferencia de velocidad: ', difVel)\n",
    "capacidad = horas*3*velProg-2*velProg\n",
    "print ('Capacidad:', capacidad)\n",
    "numChasis = float(input(\"Capture demanda del cliente:\\n\"))\n",
    "#invActual = float(input(\"Teclear el inventario actual:\\n\"))\n",
    "costoHrsDoble = 6\n",
    "costoHrsTriple = 9\n",
    "prodReal = float(input(\"Capture producción real:\\n\"))\n",
    "prodvsDemanda = prodReal-numChasis\n",
    "print(prodvsDemanda)\n",
    "\n",
    "#Plataforma DT\n",
    "\n",
    "#Plataforma DS\n"
   ]
  }
 ],
 "metadata": {
  "kernelspec": {
   "display_name": "Python 3",
   "language": "python",
   "name": "python3"
  },
  "language_info": {
   "codemirror_mode": {
    "name": "ipython",
    "version": 3
   },
   "file_extension": ".py",
   "mimetype": "text/x-python",
   "name": "python",
   "nbconvert_exporter": "python",
   "pygments_lexer": "ipython3",
   "version": "3.7.4"
  }
 },
 "nbformat": 4,
 "nbformat_minor": 2
}
